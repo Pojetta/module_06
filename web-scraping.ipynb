{
 "cells": [
  {
   "cell_type": "markdown",
   "metadata": {},
   "source": [
    "# Web Mining and Applied NLP (44-620)\n",
    "\n",
    "## Web Scraping and NLP with Requests, BeautifulSoup, and spaCy\n",
    "\n",
    "### Student Name: Joanna Farris\n",
    "\n",
    "##### GitHub Repo: [https://github.com/Pojetta/module_06](https://github.com/Pojetta/module_06)\n",
    "\n",
    "Perform the tasks described in the Markdown cells below.  When you have completed the assignment make sure your code cells have all been run (and have output beneath them) and ensure you have committed and pushed ALL of your changes to your assignment repository.\n",
    "\n",
    "Every question that requires you to write code will have a code cell underneath it; you may either write your entire solution in that cell or write it in a python file (`.py`), then import and run the appropriate code to answer the question."
   ]
  },
  {
   "cell_type": "markdown",
   "metadata": {},
   "source": [
    "### Setup and register custom sentiment extensions"
   ]
  },
  {
   "cell_type": "code",
   "execution_count": null,
   "metadata": {},
   "outputs": [],
   "source": [
    "import json  \n",
    "import pathlib  \n",
    "import pickle  \n",
    "from collections import Counter  \n",
    "  \n",
    "import requests  \n",
    "from bs4 import BeautifulSoup  \n",
    "import matplotlib.pyplot as plt  \n",
    "import spacy  \n",
    "from spacy.tokens import Doc  \n",
    "from spacytextblob.spacytextblob import SpacyTextBlob\n",
    "\n",
    "nlp = spacy.load(\"en_core_web_sm\")  \n",
    "nlp.add_pipe(\"spacytextblob\")"
   ]
  },
  {
   "cell_type": "code",
   "execution_count": 49,
   "metadata": {},
   "outputs": [],
   "source": [
    "if not Doc.has_extension(\"polarity\"):  \n",
    "    Doc.set_extension(\"polarity\", getter=lambda doc: doc._.blob.sentiment.polarity)  \n",
    "  \n",
    "if not Doc.has_extension(\"subjectivity\"):  \n",
    "    Doc.set_extension(\"subjectivity\", getter=lambda doc: doc._.blob.sentiment.subjectivity)  \n",
    "  \n",
    "if not Doc.has_extension(\"assessments\"):  \n",
    "    Doc.set_extension(\"assessments\", getter=lambda doc: doc._.blob.sentiment_assessments.assessments)"
   ]
  },
  {
   "cell_type": "markdown",
   "metadata": {},
   "source": [
    "## Question 1\n",
    "\n",
    "Write code that extracts the article html from https://web.archive.org/web/20210327165005/https://hackaday.com/2021/03/22/how-laser-headlights-work/ and dumps it to a .pkl (or other appropriate file)"
   ]
  },
  {
   "cell_type": "code",
   "execution_count": 50,
   "metadata": {},
   "outputs": [],
   "source": [
    "article_page = requests.get('https://web.archive.org/web/20210327165005/https://hackaday.com/2021/03/22/how-laser-headlights-work/')\n",
    "article_html = article_page.text\n",
    "\n",
    "with open('laser_headlights.pkl', 'wb') as f:\n",
    "    pickle.dump(article_html, f)"
   ]
  },
  {
   "cell_type": "markdown",
   "metadata": {},
   "source": [
    "## Question 2 \n",
    "\n",
    "Read in your article's html source from the file you created in question 1 and print it's text (use `.get_text()`)"
   ]
  },
  {
   "cell_type": "code",
   "execution_count": 62,
   "metadata": {},
   "outputs": [
    {
     "name": "stdout",
     "output_type": "stream",
     "text": [
      "\n",
      "\n",
      "How Laser Headlights Work\n",
      "\n",
      "\n",
      "                130 Comments            \n",
      "\n",
      "by:\n",
      "Lewin Day\n",
      "\n",
      "\n",
      "\n",
      "March 22, 2021\n",
      "\n",
      "\n",
      "\n",
      "\n",
      "\n",
      "\n",
      "\n",
      "\n",
      "When we think about the onward march of automotive technology, headlights aren’t usually the first thing that come to mind. Engines, fuel efficiency, and the switch to electric power are all more front of mind. However, that doesn’t mean there aren’t thousands of engineers around the world working to improve the state of the art in automotive lighting day in, day out.\n",
      "Sealed beam headlights gave way to more modern designs once regulations loosened up, while bulbs moved from simple halogens to xenon HIDs and, more recently, LEDs. Now, a new technology is on the scene, with lasers!\n",
      "\n",
      "Laser Headlights?!\n",
      "BWM’s prototype laser headlight assemblies undergoing testing.\n",
      "The first image brought to mind by the phrase “laser headlights” is that of laser beams firing out the front of an automobile. Obviously, coherent beams of monochromatic light would make for poor illumination outside of a very specific spot quite some distance away. Thankfully for our eyes, laser headlights don’t work in this way at all.\n",
      "Instead, laser headlights consist of one or more solid state laser diodes mounted inside the headlight. These blue lasers are fired at a yellow phosphor, similar to that used in white LEDs. This produces a powerful, vibrant white light that can then be bounced off reflectors and out of the headlights towards the road. Laser headlights built in this way have several benefits. They’re more energy efficient than LEDs that put out the same amount of light, while also being more space efficient, too.\n",
      "BWM’s futuristic i8 was one of the first vehicles to ship with laser headlight technology.\n",
      "Laser headlights are still a nascent technology, thus far only appearing in a few BMW, Audi, and other select vehicles. BMW’s technology was developed in partnership with lighting experts OSRAM. In practice, a regular LED low-beam lamp is used, with the laser used to create an incredibly bright and focused spot, used for high-beams. This can provide illumination out to 600 meters ahead of the vehicle, double that of conventional LED high beams. The lights use indium gallium nitride diode lasers that were originally used in projectors, with power levels above 1 watt. One of the challenges in implementing such technology in an automotive environment is the need for it to operate at temperature extremes. While research lasers and laser pointers may primarily be used at typical room temperatures, automotive headlights must be able to withstand everything from 40 degrees below zero up to 50 degrees C. Thankfully, the laser’s high efficiency means it doesn’t have huge heat output of its own to further complicate things. Other engineering challenges involve tailoring the optics package for the rough-and-tumble, high vibration environment found in the automotive application. It’s also important to ensure, as with any such device, that the end user can’t be exposed to harmful laser radiation in the event of accident or malfunction.\n",
      "Tearing Down the Laser Headlight\n",
      "A marketing image showing the construction of an aftermarket LED/laser headlight. We’d take the laser power with a grain of salt — it’s difficult to imagine a 10 W laser shining directly on some small LEDs without melting a hole through the board in short order.\n",
      "An aftermarket has sprung up too, with delightfully innovative designs. Combined laser/LED headlights are readily available on Alibaba, designed as a drop in replacement for projector lamps on existing vehicles. These often use an LED low-beam, and a combined LED/laser high beam, where the laser diode shoots directly at the LED phosphor to excite it further, rather than using its own. These units often also come with fan cooling to keep the laser and LEDs below their maximum operational temperature. Such developments are exciting, though it’s important to be wary of the performance of unknown aftermarket headlights. Many aftermarket LED headlight “upgrades” fail to pass muster when it comes to real-world performance, and there’s no reason to believe hybrid LED/laser designs will be any different. We’d love to pass a selection of these parts through a full IIHS test protocol, but that’s sadly beyond the scope (and budget!) of this article.\n",
      "However, [mikeselectricstuff] has happened to lay his hands on both the BMW and aftermarket parts, tearing them all down in his workshop to see what makes them tick. The differences are multitude when laid bare on the bench. The AliExpress part is relatively simple, wired up no differently from a regular headlight. Interestingly, however, the laser high-beam circuit runs all the time in these parts. To prevent blinding other road users, a shutter is kept in place to block the light, which is moved out of the way with a solenoid when the driver turns on the high beam switch.\n",
      "Where the aftermarket part is a little out of left field, the BMW design is another thing entirely. The cutting-edge headlights are hooked up with multiple connectors and over 30 conductors, with much of the driver electronics living in an external controller. Much of this is to drive the various LEDs and stepper motors for slewing the headlights when steering. However, the laser assembly brings its own complexities. Twin light sensors are built inside to monitor the laser beam, and a special metal blocking arm sits directly in front of the diode, presumably to stop the laser light leaving the headlight in the event the phosphor coating burns through. It’s truly wild to get a look inside a modern luxury car’s headlight and see just how far we’ve come from the old days of simple sealed beams.\n",
      "Cost Versus Performance\n",
      "Despite the efficiency gains available, the technology remains expensive. Powerful laser diodes don’t come cheap, after all. However, as the technology trickles down to lower-end models, it’s likely that we could see economies of scale change that for the better. Indeed, if national authorities begin to demand higher performance headlights as standard, we could see laser headlights become the norm, rather than an expensive luxury. The technology could naturally be applied to home and commercial lighting, too — though we suspect the potential gains are limited enough that LED lighting will remain the norm for some time to come.\n",
      "The high light output of laser headlights in a compact package allows engineers greater freedom when designing the front-end of a car.\n",
      "As it currently stands, much of the appeal of the new technology is about the packaging benefits, which allow automotive designers greater freedom around the headlight area. Such concerns are less of a factor when it comes to light fittings in the home or office, or indeed, on lower-end automobiles. Regardless, it’s an exciting new application for lasers and one we’ll be sure to see more of in the future.\n",
      " \n",
      "\n",
      "\n",
      "\n",
      "\n",
      " \n",
      "\n",
      "\n",
      "\n",
      "\n",
      "\n",
      "\n",
      "\n",
      "\n",
      "\n",
      "\n",
      "\n",
      "\n",
      "\n",
      "\n",
      "\n",
      "\n",
      "\n",
      "\n",
      "\n",
      "Posted in car hacks, Engineering, Featured, Laser Hacks, SliderTagged laser, laser headlight, laser headlights, light \n",
      "\n"
     ]
    }
   ],
   "source": [
    "with open('laser_headlights.pkl', 'rb') as f:\n",
    "    article_html = pickle.load(f)\n",
    "\n",
    "soup = BeautifulSoup(article_html, \"html.parser\")\n",
    "article_element = soup.find(\"article\")\n",
    "article_text = article_element.get_text() if article_element else soup.get_text()\n",
    "\n",
    "print(article_text)\n",
    "\n",
    "# Cut everything after \"Leave a comment\" if that exists\n",
    "cutoff_phrase = \"Leave a comment\"\n",
    "if cutoff_phrase in article_text:\n",
    "    article_text = article_text.split(cutoff_phrase)[0]\n",
    "\n",
    "article_text = article_text.strip()"
   ]
  },
  {
   "cell_type": "markdown",
   "metadata": {},
   "source": [
    "## Question 3 \n",
    "\n",
    "Load the article text into a trained `spaCy` pipeline, and determine the 5 most frequent tokens (converted to lower case).  Print the common tokens with an appropriate label.  Additionally, print the tokens their frequencies (with appropriate labels). Make sure to remove things we don't care about (punctuation, stopwords, whitespace)."
   ]
  },
  {
   "cell_type": "code",
   "execution_count": 52,
   "metadata": {},
   "outputs": [
    {
     "name": "stdout",
     "output_type": "stream",
     "text": [
      "Top 5 Most Common Tokens (excluding stopwords, punctuation, and whitespace):\n",
      "['laser', 'headlights', 'headlight', 'technology', 'led']\n",
      "\n",
      "Top 5 Most Common Tokens (excluding stopwords, punctuation, and whitespace):\n",
      "laser: 35\n",
      "headlights: 19\n",
      "headlight: 11\n",
      "technology: 10\n",
      "led: 10\n"
     ]
    }
   ],
   "source": [
    "doc = nlp(article_text)\n",
    "\n",
    "def we_care_about(token):\n",
    "    return (\n",
    "        not token.is_space\n",
    "        and not token.is_punct\n",
    "        and not token.is_stop\n",
    "        and token.is_alpha  # only alphabetic words\n",
    "        and len(token.text) > 2  # ignore short junk like \"at\", \"to\"\n",
    "    )\n",
    "\n",
    "tokens = [token.text.lower() for token in doc if we_care_about(token)]\n",
    "\n",
    "token_freq = Counter(tokens)\n",
    "\n",
    "top_5 = token_freq.most_common(5)\n",
    "\n",
    "print(\"Top 5 Most Common Tokens (excluding stopwords, punctuation, and whitespace):\")\n",
    "print([token for token, count in top_5])\n",
    "\n",
    "print(\"\\nTop 5 Most Common Tokens (excluding stopwords, punctuation, and whitespace):\")\n",
    "for word, count in top_5:\n",
    "    print(f\"{word}: {count}\")"
   ]
  },
  {
   "cell_type": "markdown",
   "metadata": {},
   "source": [
    "## Question 4 \n",
    "\n",
    "Load the article text into a trained `spaCy` pipeline, and determine the 5 most frequent lemmas (converted to lower case).  Print the common lemmas with an appropriate label.  Additionally, print the lemmas with their frequencies (with appropriate labels). Make sure to remove things we don't care about (punctuation, stopwords, whitespace)."
   ]
  },
  {
   "cell_type": "code",
   "execution_count": 53,
   "metadata": {},
   "outputs": [
    {
     "name": "stdout",
     "output_type": "stream",
     "text": [
      "Top 5 Most Common Lemmas (excluding stopwords, punctuation, and whitespace):\n",
      "['laser', 'headlight', 'beam', 'technology', 'led']\n",
      "\n",
      "Lemma Frequencies:\n",
      "laser: 40\n",
      "headlight: 28\n",
      "beam: 12\n",
      "technology: 10\n",
      "led: 10\n"
     ]
    }
   ],
   "source": [
    "lemmas = [token.lemma_.lower() for token in doc if we_care_about(token)]\n",
    "\n",
    "lemma_freq = Counter(lemmas)\n",
    "\n",
    "top_5_lemmas = lemma_freq.most_common(5)\n",
    "\n",
    "print(\"Top 5 Most Common Lemmas (excluding stopwords, punctuation, and whitespace):\")\n",
    "print([lemma for lemma, count in top_5_lemmas])\n",
    "\n",
    "print(\"\\nLemma Frequencies:\")\n",
    "for lemma, count in top_5_lemmas:\n",
    "    print(f\"{lemma}: {count}\")"
   ]
  },
  {
   "cell_type": "markdown",
   "metadata": {},
   "source": [
    "## Question 5 \n",
    "\n",
    "Define the following methods:  \n",
    "  \n",
    "    * `score_sentence_by_token(sentence, interesting_token)` that takes a sentence and a list of interesting token and returns the number of times that any of the interesting words appear in the sentence divided by the number of words in the sentence. \n",
    "  \n",
    "    * `score_sentence_by_lemma(sentence, interesting_lemmas)` that takes a sentence and a list of interesting lemmas and returns the number of times that any of the interesting lemmas appear in the sentence divided by the number of words in the sentence\n",
    "    \n",
    "You may find some of the code from the in class notes useful; feel free to use methods (rewrite them in this cell as well).  Test them by showing the score of the first sentence in your article using the frequent tokens and frequent lemmas identified in question 3."
   ]
  },
  {
   "cell_type": "code",
   "execution_count": 54,
   "metadata": {},
   "outputs": [
    {
     "name": "stdout",
     "output_type": "stream",
     "text": [
      "Sentence 0:\n",
      "  Score by token: 0.108\n",
      "  Score by lemma: 0.081\n",
      "Sentence 1:\n",
      "  Score by token: 0.000\n",
      "  Score by lemma: 0.000\n",
      "Sentence 10:\n",
      "  Score by token: 0.222\n",
      "  Score by lemma: 0.222\n"
     ]
    }
   ],
   "source": [
    "def score_sentence_by_token(sentence, interesting_tokens):\n",
    "    tokens = [token.text.lower() for token in sentence if not token.is_space]\n",
    "    matches = [token for token in tokens if token in interesting_tokens]\n",
    "    return len(matches) / len(tokens) if tokens else 0\n",
    "\n",
    "def score_sentence_by_lemma(sentence, interesting_lemmas):\n",
    "    lemmas = [token.lemma_.lower() for token in sentence if not token.is_space]\n",
    "    matches = [lemma for lemma in lemmas if lemma in interesting_lemmas]\n",
    "    return len(matches) / len(lemmas) if lemmas else 0\n",
    "\n",
    "sentences = list(doc.sents)\n",
    "\n",
    "def sentence_score(index):\n",
    "    try:\n",
    "        sent = sentences[index]\n",
    "        print(f\"Sentence {index}:\")\n",
    "        print(f\"  Score by token: {score_sentence_by_token(sent, [t for t, _ in top_5]):.3f}\")\n",
    "        print(f\"  Score by lemma: {score_sentence_by_lemma(sent, [l for l, _ in top_5_lemmas]):.3f}\")\n",
    "    except IndexError:\n",
    "        print(f\"No sentence found at index {index}.\")\n",
    "\n",
    "sentence_score(0)\n",
    "sentence_score(1)\n",
    "sentence_score(10)"
   ]
  },
  {
   "cell_type": "markdown",
   "metadata": {},
   "source": [
    "## Question 6 \n",
    "\n",
    "Make a list containing the scores (using tokens) of every sentence in the article, and plot a histogram with appropriate titles and axis labels of the scores. From your histogram, what seems to be the most common range of scores (put the answer in a comment after your code)?"
   ]
  },
  {
   "cell_type": "code",
   "execution_count": 60,
   "metadata": {},
   "outputs": [
    {
     "data": {
      "image/png": "[encoded data removed]",
      "text/plain": [
       "<Figure size 1000x400 with 1 Axes>"
      ]
     },
     "metadata": {},
     "output_type": "display_data"
    }
   ],
   "source": [
    "token_scores = [\n",
    "    score_sentence_by_token(sent, [t for t, _ in top_5])\n",
    "    for sent in sentences\n",
    "]\n",
    "\n",
    "# Histogram\n",
    "plt.figure(figsize=(10, 4))  # width=10 inches, height=4 inches\n",
    "plt.hist(token_scores, bins=10, color='plum', edgecolor='purple')\n",
    "plt.title(\"Distribution of Token-Based Sentence Scores\")\n",
    "plt.xlabel(\"Score\")\n",
    "plt.ylabel(\"Number of Sentences\")\n",
    "plt.show()\n",
    "\n",
    "# Most common token score range: 0.0 – 0.05"
   ]
  },
  {
   "cell_type": "markdown",
   "metadata": {},
   "source": [
    "## Question 7 \n",
    "\n",
    "Make a list containing the scores (using lemmas) of every sentence in the article, and plot a histogram with appropriate titles and axis labels of the scores.  From your histogram, what seems to be the most common range of scores (put the answer in a comment after your code)?"
   ]
  },
  {
   "cell_type": "code",
   "execution_count": 59,
   "metadata": {},
   "outputs": [
    {
     "data": {
      "image/png": "[encoded data removed]",
      "text/plain": [
       "<Figure size 1000x400 with 1 Axes>"
      ]
     },
     "metadata": {},
     "output_type": "display_data"
    }
   ],
   "source": [
    "lemma_scores = [\n",
    "    score_sentence_by_lemma(sent, [t for t, _ in top_5])\n",
    "    for sent in sentences\n",
    "]\n",
    "\n",
    "# Histogram\n",
    "plt.figure(figsize=(10, 4))  # width=10 inches, height=4 inches\n",
    "plt.hist(lemma_scores, bins=10, color='aquamarine', edgecolor='teal')\n",
    "plt.title(\"Distribution of Lemma-Based Sentence Scores\")\n",
    "plt.xlabel(\"Score\")\n",
    "plt.ylabel(\"Number of Sentences\")\n",
    "plt.show()\n",
    "\n",
    "# Most common lemma score range: 0.0 – 0.05"
   ]
  },
  {
   "cell_type": "markdown",
   "metadata": {},
   "source": [
    "## Question 8\n",
    "\n",
    "Which tokens and lemmas would be omitted from the lists generated in questions 3 and 4 if we only wanted to consider nouns as interesting words?  How might we change the code to only consider nouns? Put your answer in this Markdown cell (you can edit it by double clicking it).\n",
    "\n",
    "**Answer**: My code already returned only nouns. That wasn't my intention, but I had ChatGPT help me alter it to remove unimportant words that seemed like they were coming from the comments section, and this is what I was left with:\n",
    "\n",
    "Top 5 Most Common Tokens: ['laser', 'headlights', 'headlight', 'technology', 'led']\n",
    "\n",
    "Top 5 Most Common Lemmas: ['laser', 'headlight', 'beam', 'technology', 'led']\n",
    "\n",
    "I'm not sure if there is a way to filter specifically for parts of speech, but I have a feeling there is!"
   ]
  },
  {
   "cell_type": "markdown",
   "metadata": {},
   "source": [
    "#### Bonus:\n",
    "\n",
    "        Me:  \n",
    "        Is there a way to filter for parts of speech?  \n",
    "\n",
    "        ChatGPT said:  \n",
    "        Yes — absolutely! spaCy makes it super easy to filter tokens by part of speech (POS) using token.pos_.\n",
    "\n",
    "        ✅ Example: Filter only nouns and verbs\n",
    "        [token for token in doc if token.pos_ in (\"NOUN\", \"VERB\")]"
   ]
  }
 ],
 "metadata": {
  "kernelspec": {
   "display_name": ".venv",
   "language": "python",
   "name": "python3"
  },
  "language_info": {
   "codemirror_mode": {
    "name": "ipython",
    "version": 3
   },
   "file_extension": ".py",
   "mimetype": "text/x-python",
   "name": "python",
   "nbconvert_exporter": "python",
   "pygments_lexer": "ipython3",
   "version": "3.13.5"
  }
 },
 "nbformat": 4,
 "nbformat_minor": 4
}
